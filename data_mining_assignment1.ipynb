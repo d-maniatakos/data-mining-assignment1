{
  "nbformat": 4,
  "nbformat_minor": 0,
  "metadata": {
    "colab": {
      "name": "data_mining_assignment1.ipynb",
      "provenance": [],
      "collapsed_sections": [],
      "toc_visible": true
    },
    "kernelspec": {
      "name": "python3",
      "display_name": "Python 3"
    },
    "language_info": {
      "name": "python"
    }
  },
  "cells": [
    {
      "cell_type": "markdown",
      "metadata": {
        "id": "tH09ceeBjP5R"
      },
      "source": [
        "**Εισαγωγή Δεδομένων**\n"
      ]
    },
    {
      "cell_type": "code",
      "metadata": {
        "id": "61fLeKbtFeL0",
        "colab": {
          "base_uri": "https://localhost:8080/",
          "height": 248
        },
        "outputId": "3f45c4db-959a-4ad9-f09a-9ce36142a7c6"
      },
      "source": [
        "import pandas as pd\n",
        "\n",
        "raw_netflix_data = pd.read_csv(\"netflix_titles.csv\")\n",
        "#netflix_data = raw_netflix_data.dropna()\n",
        "netflix_data = raw_netflix_data\n",
        "netflix_data.tail(3)\n"
      ],
      "execution_count": 34,
      "outputs": [
        {
          "output_type": "execute_result",
          "data": {
            "text/html": [
              "<div>\n",
              "<style scoped>\n",
              "    .dataframe tbody tr th:only-of-type {\n",
              "        vertical-align: middle;\n",
              "    }\n",
              "\n",
              "    .dataframe tbody tr th {\n",
              "        vertical-align: top;\n",
              "    }\n",
              "\n",
              "    .dataframe thead th {\n",
              "        text-align: right;\n",
              "    }\n",
              "</style>\n",
              "<table border=\"1\" class=\"dataframe\">\n",
              "  <thead>\n",
              "    <tr style=\"text-align: right;\">\n",
              "      <th></th>\n",
              "      <th>show_id</th>\n",
              "      <th>type</th>\n",
              "      <th>title</th>\n",
              "      <th>director</th>\n",
              "      <th>cast</th>\n",
              "      <th>country</th>\n",
              "      <th>date_added</th>\n",
              "      <th>release_year</th>\n",
              "      <th>rating</th>\n",
              "      <th>duration</th>\n",
              "      <th>listed_in</th>\n",
              "      <th>description</th>\n",
              "    </tr>\n",
              "  </thead>\n",
              "  <tbody>\n",
              "    <tr>\n",
              "      <th>7784</th>\n",
              "      <td>s7785</td>\n",
              "      <td>Movie</td>\n",
              "      <td>Zulu Man in Japan</td>\n",
              "      <td>NaN</td>\n",
              "      <td>Nasty C</td>\n",
              "      <td>NaN</td>\n",
              "      <td>September 25, 2020</td>\n",
              "      <td>2019</td>\n",
              "      <td>TV-MA</td>\n",
              "      <td>44 min</td>\n",
              "      <td>Documentaries, International Movies, Music &amp; M...</td>\n",
              "      <td>In this documentary, South African rapper Nast...</td>\n",
              "    </tr>\n",
              "    <tr>\n",
              "      <th>7785</th>\n",
              "      <td>s7786</td>\n",
              "      <td>TV Show</td>\n",
              "      <td>Zumbo's Just Desserts</td>\n",
              "      <td>NaN</td>\n",
              "      <td>Adriano Zumbo, Rachel Khoo</td>\n",
              "      <td>Australia</td>\n",
              "      <td>October 31, 2020</td>\n",
              "      <td>2019</td>\n",
              "      <td>TV-PG</td>\n",
              "      <td>1 Season</td>\n",
              "      <td>International TV Shows, Reality TV</td>\n",
              "      <td>Dessert wizard Adriano Zumbo looks for the nex...</td>\n",
              "    </tr>\n",
              "    <tr>\n",
              "      <th>7786</th>\n",
              "      <td>s7787</td>\n",
              "      <td>Movie</td>\n",
              "      <td>ZZ TOP: THAT LITTLE OL' BAND FROM TEXAS</td>\n",
              "      <td>Sam Dunn</td>\n",
              "      <td>NaN</td>\n",
              "      <td>United Kingdom, Canada, United States</td>\n",
              "      <td>March 1, 2020</td>\n",
              "      <td>2019</td>\n",
              "      <td>TV-MA</td>\n",
              "      <td>90 min</td>\n",
              "      <td>Documentaries, Music &amp; Musicals</td>\n",
              "      <td>This documentary delves into the mystique behi...</td>\n",
              "    </tr>\n",
              "  </tbody>\n",
              "</table>\n",
              "</div>"
            ],
            "text/plain": [
              "     show_id  ...                                        description\n",
              "7784   s7785  ...  In this documentary, South African rapper Nast...\n",
              "7785   s7786  ...  Dessert wizard Adriano Zumbo looks for the nex...\n",
              "7786   s7787  ...  This documentary delves into the mystique behi...\n",
              "\n",
              "[3 rows x 12 columns]"
            ]
          },
          "metadata": {
            "tags": []
          },
          "execution_count": 34
        }
      ]
    },
    {
      "cell_type": "markdown",
      "metadata": {
        "id": "6zcmgdF1lZKc"
      },
      "source": [
        "**Ερώτημα 1**"
      ]
    },
    {
      "cell_type": "code",
      "metadata": {
        "colab": {
          "base_uri": "https://localhost:8080/"
        },
        "id": "ILMLGfm2ldMC",
        "outputId": "678cff32-3ddd-48b1-bd9b-904e8480ff85"
      },
      "source": [
        "def print_most_popular_type(df):\n",
        "  most_popular_type = df.type.value_counts()\n",
        "  movie_amount  = most_popular_type.get('Movie')\n",
        "  shows_amount = most_popular_type.get('TV Show')\n",
        "  if movie_amount > shows_amount:\n",
        "    print(\"There are more movies than TV shows (\" + str(movie_amount) + \" movies, \" + str(shows_amount) + \" TV Shows)\")\n",
        "  else:\n",
        "    print(\"There are more TV Shows than movies (\" + str(movie_amount) + \" movies, \" + str(shows_amount) + \" TV Shows)\")\n",
        "\n",
        "\n",
        "print_most_popular_type(netflix_data)"
      ],
      "execution_count": 52,
      "outputs": [
        {
          "output_type": "stream",
          "text": [
            "There are more movies than TV shows (5377 movies, 2410 TV Shows)\n"
          ],
          "name": "stdout"
        }
      ]
    },
    {
      "cell_type": "markdown",
      "metadata": {
        "id": "Yzb3yGZxpBu0"
      },
      "source": [
        "**Ερώτημα 2**"
      ]
    },
    {
      "cell_type": "code",
      "metadata": {
        "colab": {
          "base_uri": "https://localhost:8080/"
        },
        "id": "EpJ1bYMHpEXB",
        "outputId": "0aa981d0-aaa9-4fc9-b3a3-e0356a4fc756"
      },
      "source": [
        "def recentNetflixData(df, year):\n",
        "  return netflix_data[netflix_data['release_year'] > year].reset_index()\n",
        "\n",
        "print_most_popular_type(recentNetflixData(netflix_data, 2019))"
      ],
      "execution_count": 53,
      "outputs": [
        {
          "output_type": "stream",
          "text": [
            "There are more TV Shows than movies (423 movies, 476 TV Shows)\n"
          ],
          "name": "stdout"
        }
      ]
    },
    {
      "cell_type": "markdown",
      "metadata": {
        "id": "iGOO2CrfrqFm"
      },
      "source": [
        "**Ερώτημα 3**"
      ]
    },
    {
      "cell_type": "code",
      "metadata": {
        "colab": {
          "base_uri": "https://localhost:8080/"
        },
        "id": "LrLpsO0IrsLm",
        "outputId": "b842e33d-d7dd-4e38-e7c7-df5053c238f3"
      },
      "source": [
        "def seperateCommas(expression):\n",
        "  return expression.split(', ')\n",
        "\n",
        "def print_most_popular_country(df):\n",
        "  countries = df.country.dropna().values\n",
        "  titles_by_country = {}\n",
        "\n",
        "  for c in countries:\n",
        "    for item in seperateCommas(c):\n",
        "      if item not in titles_by_country.keys():\n",
        "        titles_by_country[item] = 1\n",
        "      else:\n",
        "        titles_by_country[item] = titles_by_country[item] + 1\n",
        "\n",
        "  most_popular_country = max(titles_by_country, key=titles_by_country.get)\n",
        "  print(\"Most popular country is \" + str(most_popular_country) + \" with \" + str(titles_by_country[most_popular_country]) + \" titles.\")\n",
        "\n",
        "print_most_popular_country(netflix_data)"
      ],
      "execution_count": 108,
      "outputs": [
        {
          "output_type": "stream",
          "text": [
            "Most popular country is United States with 3296 titles.\n"
          ],
          "name": "stdout"
        }
      ]
    },
    {
      "cell_type": "markdown",
      "metadata": {
        "id": "8WRqw26GujeP"
      },
      "source": [
        "**Ερώτημα 4**"
      ]
    },
    {
      "cell_type": "code",
      "metadata": {
        "id": "sJZV5ic6ulrc",
        "outputId": "3c171ee3-dbdf-4792-eee7-a55afe4b26e5",
        "colab": {
          "base_uri": "https://localhost:8080/"
        }
      },
      "source": [
        "def titles_in_country(df, country):\n",
        "  filtered_data = df[df['country'].notnull()]\n",
        "  return filtered_data.loc[filtered_data['country'].str.contains(country)]\n",
        "\n",
        "def unique_items(df):\n",
        "  raw_items = df.dropna().values\n",
        "  items = []\n",
        "\n",
        "  for c in raw_items:\n",
        "    for item in seperateCommas(c):\n",
        "      if item not in items:\n",
        "        items.append(item)\n",
        "  return items\n",
        "\n",
        "def all_categories(df):\n",
        "  return unique_items(df.listed_in)\n",
        "\n",
        "\n",
        "countries = unique_items(netflix_data.country)\n",
        "for country in countries:\n",
        "  print(country)\n",
        "  print(all_categories(titles_in_country(netflix_data, country)))"
      ],
      "execution_count": 157,
      "outputs": [
        {
          "output_type": "stream",
          "text": [
            "Brazil\n",
            "['International TV Shows', 'TV Dramas', 'TV Sci-Fi & Fantasy', 'Documentaries', 'International Movies', 'Reality TV', 'Dramas', 'Thrillers', 'Stand-Up Comedy', 'Docuseries', 'Comedies', 'LGBTQ Movies', 'Independent Movies', 'Crime TV Shows', 'TV Comedies', 'Children & Family Movies', \"Kids' TV\", 'Romantic TV Shows', 'Music & Musicals', 'Sports Movies', 'TV Mysteries', 'Faith & Spirituality', 'Romantic Movies', 'Stand-Up Comedy & Talk Shows', 'Science & Nature TV', 'Action & Adventure', 'TV Horror']\n",
            "Mexico\n",
            "['Dramas', 'International Movies', 'Crime TV Shows', 'Docuseries', 'International TV Shows', 'Documentaries', 'Comedies', 'Stand-Up Comedy', 'Romantic Movies', 'Independent Movies', 'Sports Movies', 'Romantic TV Shows', 'Spanish-Language TV Shows', 'Movies', 'TV Comedies', 'Music & Musicals', 'TV Dramas', 'Children & Family Movies', 'Horror Movies', 'TV Action & Adventure', 'Classic & Cult TV', \"Kids' TV\", 'Action & Adventure', 'Sci-Fi & Fantasy', 'Classic Movies', 'LGBTQ Movies', 'Reality TV', 'Thrillers', 'TV Sci-Fi & Fantasy', 'Stand-Up Comedy & Talk Shows']\n",
            "Singapore\n",
            "['Horror Movies', 'International Movies', 'Action & Adventure', 'Dramas', 'Independent Movies', 'Crime TV Shows', 'International TV Shows', 'TV Dramas', 'Documentaries', 'Thrillers', 'Sci-Fi & Fantasy', 'TV Sci-Fi & Fantasy', 'Cult Movies', 'Stand-Up Comedy', 'Romantic Movies', \"Kids' TV\", 'Korean TV Shows', 'Romantic TV Shows', 'TV Horror', 'TV Comedies', 'Reality TV']\n",
            "United States\n",
            "['Action & Adventure', 'Independent Movies', 'Sci-Fi & Fantasy', 'Dramas', 'Thrillers', 'Crime TV Shows', 'International TV Shows', 'TV Dramas', 'Documentaries', 'Reality TV', 'TV Comedies', 'Comedies', 'Sports Movies', 'Romantic Movies', 'Docuseries', 'Science & Nature TV', 'Movies', 'Horror Movies', 'TV Mysteries', 'Music & Musicals', 'LGBTQ Movies', \"Kids' TV\", 'TV Action & Adventure', 'TV Sci-Fi & Fantasy', 'British TV Shows', 'International Movies', 'Children & Family Movies', 'Classic Movies', 'Cult Movies', 'TV Shows', 'Stand-Up Comedy & Talk Shows', 'Stand-Up Comedy', 'Teen TV Shows', 'Anime Features', 'TV Horror', 'TV Thrillers', 'Faith & Spirituality', 'Classic & Cult TV', 'Romantic TV Shows', 'Anime Series', 'Spanish-Language TV Shows', 'Korean TV Shows']\n",
            "Turkey\n",
            "['International TV Shows', 'TV Dramas', 'TV Mysteries', 'Comedies', 'International Movies', 'Crime TV Shows', 'Romantic Movies', 'Dramas', 'Action & Adventure', 'Sports Movies', 'Thrillers', 'Horror Movies', 'TV Action & Adventure', 'Independent Movies', 'Music & Musicals', 'TV Thrillers', 'TV Horror', 'Romantic TV Shows', 'Children & Family Movies', 'TV Comedies', 'Teen TV Shows']\n",
            "Egypt\n",
            "['Horror Movies', 'International Movies', 'Comedies', 'Action & Adventure', 'Dramas', 'Classic Movies', 'Romantic Movies', 'International TV Shows', 'TV Dramas', 'TV Mysteries', 'Romantic TV Shows', 'Children & Family Movies', 'Crime TV Shows', 'Music & Musicals', 'TV Horror', 'Thrillers', 'Sports Movies', 'TV Comedies', 'TV Sci-Fi & Fantasy', 'Documentaries', 'Independent Movies']\n",
            "India\n",
            "['Horror Movies', 'International Movies', 'Thrillers', 'Comedies', 'Dramas', 'Independent Movies', 'Action & Adventure', 'International TV Shows', 'TV Dramas', 'TV Shows', 'Music & Musicals', 'Sci-Fi & Fantasy', 'Children & Family Movies', 'Stand-Up Comedy', 'Crime TV Shows', 'TV Action & Adventure', 'Romantic Movies', \"Kids' TV\", 'TV Comedies', 'Classic Movies', 'Documentaries', 'Cult Movies', 'TV Horror', 'TV Thrillers', 'TV Mysteries', 'Sports Movies', 'British TV Shows', 'Docuseries', 'Romantic TV Shows', 'LGBTQ Movies', 'Faith & Spirituality', 'TV Sci-Fi & Fantasy', 'Reality TV', 'Stand-Up Comedy & Talk Shows', 'Teen TV Shows']\n",
            "Poland\n",
            "['Crime TV Shows', 'International TV Shows', 'TV Dramas', 'Dramas', 'International Movies', 'Romantic Movies', 'Thrillers', 'Comedies', 'Independent Movies', 'Classic Movies', 'Horror Movies', 'Action & Adventure', 'Documentaries', 'Sci-Fi & Fantasy', 'Cult Movies', 'TV Action & Adventure', 'TV Mysteries', 'Docuseries']\n",
            "Thailand\n",
            "['Documentaries', 'International Movies', 'Sports Movies', 'Comedies', 'Music & Musicals', 'Dramas', 'Thrillers', 'Action & Adventure', 'International TV Shows', 'TV Comedies', 'TV Dramas', 'Romantic TV Shows', 'Romantic Movies', 'TV Sci-Fi & Fantasy', 'Horror Movies', 'TV Mysteries', 'Docuseries', 'Faith & Spirituality', 'Crime TV Shows', 'TV Action & Adventure', 'Teen TV Shows', 'TV Thrillers', 'Children & Family Movies', 'TV Horror', 'LGBTQ Movies']\n",
            "Nigeria\n",
            "['Dramas', 'International Movies', 'Thrillers', 'Comedies', 'Romantic Movies', 'International TV Shows', 'Romantic TV Shows', 'TV Comedies', 'TV Dramas', 'Independent Movies', 'Music & Musicals', 'Horror Movies', 'Documentaries', 'Action & Adventure']\n",
            "Norway\n",
            "['Dramas', 'Thrillers', 'Action & Adventure', 'Comedies', 'International Movies', 'Romantic Movies', 'International TV Shows', 'TV Horror', 'TV Mysteries', 'Crime TV Shows', 'TV Dramas', 'Horror Movies', 'Independent Movies', 'Documentaries', 'Romantic TV Shows', 'TV Comedies', 'Children & Family Movies', 'TV Thrillers', 'TV Action & Adventure', 'Docuseries', 'Science & Nature TV']\n",
            "Iceland\n",
            "['Dramas', 'Thrillers', 'Horror Movies', 'International Movies', 'Action & Adventure', 'Romantic Movies', 'Independent Movies', 'Stand-Up Comedy', 'Sci-Fi & Fantasy', 'Crime TV Shows', 'International TV Shows', 'TV Dramas']\n",
            "United Kingdom\n",
            "['Sports Movies', 'British TV Shows', 'International TV Shows', 'Reality TV', 'Sci-Fi & Fantasy', 'Documentaries', 'Action & Adventure', 'Dramas', 'International Movies', 'Classic Movies', 'Cult Movies', 'Independent Movies', 'Thrillers', 'Comedies', 'Children & Family Movies', 'TV Comedies', 'TV Dramas', 'Music & Musicals', 'Romantic Movies', 'Docuseries', 'Romantic TV Shows', \"Kids' TV\", 'Horror Movies', 'Stand-Up Comedy', 'Science & Nature TV', 'Crime TV Shows', 'LGBTQ Movies', 'TV Thrillers', 'TV Action & Adventure', 'TV Sci-Fi & Fantasy', 'Classic & Cult TV', 'TV Horror', 'Movies', 'Stand-Up Comedy & Talk Shows', 'TV Mysteries', 'Spanish-Language TV Shows', 'Faith & Spirituality']\n",
            "Japan\n",
            "['Anime Series', 'International TV Shows', 'Dramas', 'International Movies', 'Movies', 'Anime Features', 'Children & Family Movies', 'Reality TV', 'Romantic TV Shows', 'Crime TV Shows', 'TV Action & Adventure', 'TV Mysteries', 'Action & Adventure', 'Teen TV Shows', \"Kids' TV\", 'Docuseries', 'Comedies', 'TV Dramas', 'Documentaries', 'TV Comedies', 'Sci-Fi & Fantasy', 'Independent Movies', 'TV Thrillers', 'TV Horror', 'Romantic Movies', 'Horror Movies', 'Thrillers', 'TV Shows', 'Music & Musicals', 'Classic Movies', 'Stand-Up Comedy & Talk Shows', 'Cult Movies', 'LGBTQ Movies', 'Sports Movies']\n",
            "South Korea\n",
            "['Horror Movies', 'International Movies', 'Thrillers', 'International TV Shows', 'Romantic TV Shows', 'TV Dramas', 'Korean TV Shows', 'Music & Musicals', 'Dramas', 'Movies', 'TV Comedies', 'Crime TV Shows', 'Stand-Up Comedy & Talk Shows', 'Children & Family Movies', 'Comedies', 'TV Action & Adventure', 'Action & Adventure', 'Independent Movies', 'Reality TV', \"Kids' TV\", 'TV Horror', 'TV Mysteries', 'Documentaries', 'Sci-Fi & Fantasy', 'Stand-Up Comedy', 'Cult Movies', 'TV Thrillers', 'Romantic Movies']\n",
            "Italy\n",
            "['Documentaries', 'International Movies', 'Dramas', 'Independent Movies', \"Kids' TV\", 'Comedies', 'Thrillers', 'International TV Shows', 'TV Dramas', 'Teen TV Shows', 'Crime TV Shows', 'Docuseries', 'Spanish-Language TV Shows', 'TV Horror', 'Classic Movies', 'Romantic Movies', 'Stand-Up Comedy', 'LGBTQ Movies', 'TV Comedies', 'Children & Family Movies', 'Romantic TV Shows', 'Music & Musicals', 'Action & Adventure', 'Faith & Spirituality', 'Sports Movies', 'Sci-Fi & Fantasy', 'Horror Movies']\n",
            "Canada\n",
            "['Documentaries', 'International Movies', 'Comedies', 'Romantic Movies', 'Crime TV Shows', 'International TV Shows', 'TV Dramas', 'Faith & Spirituality', 'Children & Family Movies', 'Dramas', 'Stand-Up Comedy', 'Music & Musicals', 'Horror Movies', \"Kids' TV\", 'Sports Movies', 'Action & Adventure', 'Thrillers', 'Cult Movies', 'Teen TV Shows', 'Sci-Fi & Fantasy', 'TV Comedies', 'Independent Movies', 'Anime Series', 'Docuseries', 'Romantic TV Shows', 'LGBTQ Movies', 'TV Mysteries', 'TV Horror', 'TV Action & Adventure', 'Reality TV', 'Science & Nature TV', 'British TV Shows', 'TV Thrillers', 'TV Sci-Fi & Fantasy', 'Movies', 'Classic & Cult TV', 'Korean TV Shows']\n",
            "Indonesia\n",
            "['Dramas', 'International Movies', 'Romantic Movies', 'Sports Movies', 'Comedies', 'Action & Adventure', 'Sci-Fi & Fantasy', 'Children & Family Movies', 'International TV Shows', 'TV Comedies', 'TV Dramas', 'Horror Movies', 'Romantic TV Shows', 'Documentaries', 'Faith & Spirituality', 'Music & Musicals', \"Kids' TV\"]\n",
            "Romania\n",
            "['Comedies', 'Dramas', 'International Movies', 'Music & Musicals', 'Romantic Movies', 'Thrillers', 'Sci-Fi & Fantasy', 'Children & Family Movies', 'Documentaries']\n",
            "Spain\n",
            "['Comedies', 'International Movies', 'Documentaries', 'Dramas', 'Sports Movies', 'International TV Shows', 'Romantic TV Shows', 'Spanish-Language TV Shows', 'Independent Movies', 'Sci-Fi & Fantasy', 'Music & Musicals', 'Thrillers', 'Romantic Movies', 'LGBTQ Movies', 'Children & Family Movies', 'Horror Movies', 'Crime TV Shows', 'TV Dramas', \"Kids' TV\", 'British TV Shows', 'Docuseries', 'Faith & Spirituality', 'Movies', 'Action & Adventure', 'Teen TV Shows', 'TV Comedies', 'Reality TV', 'TV Action & Adventure', 'Classic Movies', 'Anime Series', 'Science & Nature TV']\n",
            "South Africa\n",
            "['Comedies', 'International Movies', 'Romantic Movies', 'Action & Adventure', 'Documentaries', 'International TV Shows', 'TV Dramas', 'Dramas', 'Music & Musicals', 'TV Mysteries', 'Crime TV Shows', 'Docuseries', 'Sci-Fi & Fantasy', 'Thrillers', 'Sports Movies', 'TV Comedies', 'Independent Movies', 'TV Action & Adventure', 'Faith & Spirituality', 'Horror Movies', 'British TV Shows', 'Romantic TV Shows']\n",
            "France\n",
            "['Comedies', 'Dramas', 'International Movies', 'Action & Adventure', 'Movies', 'Sports Movies', 'Independent Movies', 'Children & Family Movies', 'Thrillers', 'International TV Shows', 'TV Comedies', 'Crime TV Shows', 'TV Dramas', 'Documentaries', 'Docuseries', 'Science & Nature TV', 'Classic Movies', 'Sci-Fi & Fantasy', 'Romantic Movies', \"Kids' TV\", 'Music & Musicals', 'TV Action & Adventure', 'British TV Shows', 'Stand-Up Comedy', 'Horror Movies', 'Stand-Up Comedy & Talk Shows', 'Faith & Spirituality', 'TV Horror', 'TV Thrillers', 'Reality TV', 'Cult Movies', 'TV Mysteries', 'Romantic TV Shows', 'LGBTQ Movies', 'TV Sci-Fi & Fantasy']\n",
            "Portugal\n",
            "['Dramas', 'International Movies', 'Sports Movies', 'Comedies', 'Independent Movies', 'Romantic Movies']\n",
            "Hong Kong\n",
            "['Action & Adventure', 'International Movies', 'Dramas', 'Romantic Movies', 'Comedies', 'Documentaries', 'Thrillers', 'Cult Movies', 'Sci-Fi & Fantasy', 'Classic Movies', 'International TV Shows', 'TV Comedies', 'TV Dramas', 'Korean TV Shows', 'Romantic TV Shows', 'Crime TV Shows', 'Independent Movies', 'Music & Musicals', 'Children & Family Movies', 'Sports Movies']\n",
            "China\n",
            "['Action & Adventure', 'International Movies', 'Comedies', 'Dramas', 'Romantic Movies', 'Documentaries', 'Sports Movies', 'International TV Shows', 'Romantic TV Shows', 'Teen TV Shows', 'Children & Family Movies', 'TV Comedies', 'Sci-Fi & Fantasy', 'British TV Shows', \"Kids' TV\", 'Crime TV Shows', 'TV Action & Adventure', 'Independent Movies', 'TV Dramas', 'Docuseries', 'Anime Features', 'TV Sci-Fi & Fantasy', 'Thrillers', 'Reality TV', 'Cult Movies', 'Music & Musicals', 'Faith & Spirituality', 'Korean TV Shows', 'Horror Movies', 'TV Mysteries']\n",
            "Germany\n",
            "['Action & Adventure', 'Comedies', 'International Movies', 'Dramas', 'Independent Movies', 'Crime TV Shows', 'Docuseries', 'International TV Shows', 'Thrillers', 'Science & Nature TV', 'Sci-Fi & Fantasy', 'TV Dramas', 'TV Action & Adventure', 'Documentaries', 'Music & Musicals', 'Romantic Movies', 'Children & Family Movies', 'TV Sci-Fi & Fantasy', 'Cult Movies', 'Sports Movies', 'British TV Shows', 'Stand-Up Comedy', 'Horror Movies', 'LGBTQ Movies', 'Stand-Up Comedy & Talk Shows', 'Movies', \"Kids' TV\", 'TV Comedies', 'Reality TV', 'Romantic TV Shows', 'Faith & Spirituality', 'TV Mysteries', 'Classic Movies']\n",
            "Argentina\n",
            "['Action & Adventure', 'Comedies', 'International Movies', 'Documentaries', 'Sports Movies', 'Dramas', 'Thrillers', 'Stand-Up Comedy', 'International TV Shows', 'Spanish-Language TV Shows', 'TV Comedies', 'Crime TV Shows', 'Independent Movies', 'Romantic Movies', 'Docuseries', 'Movies', \"Kids' TV\", 'Horror Movies', 'TV Dramas', 'Cult Movies', 'Teen TV Shows', 'Children & Family Movies', 'Music & Musicals', 'LGBTQ Movies', 'Romantic TV Shows', 'Reality TV', 'Classic Movies', 'Sci-Fi & Fantasy', 'TV Horror']\n",
            "Serbia\n",
            "['Action & Adventure', 'Dramas', 'Thrillers', 'International Movies', 'Documentaries', 'Sci-Fi & Fantasy', 'Horror Movies', 'Independent Movies']\n",
            "Denmark\n",
            "['Dramas', 'International Movies', 'Documentaries', 'Thrillers', 'Romantic Movies', 'International TV Shows', 'TV Dramas', 'TV Mysteries', 'TV Thrillers', 'Independent Movies', 'Action & Adventure', 'TV Comedies', 'Comedies', \"Kids' TV\", 'Children & Family Movies', 'Crime TV Shows', 'Docuseries', 'Cult Movies', 'TV Action & Adventure', 'Sports Movies', 'LGBTQ Movies']\n",
            "Kenya\n",
            "['International Movies', 'Thrillers', 'Comedies', 'Romantic Movies', 'Documentaries', 'Dramas']\n",
            "New Zealand\n",
            "['Action & Adventure', 'Dramas', 'International Movies', 'Documentaries', 'Sports Movies', 'TV Dramas', 'TV Sci-Fi & Fantasy', 'TV Thrillers', 'Docuseries', 'International TV Shows', 'Sci-Fi & Fantasy', 'Comedies', \"Kids' TV\", 'Children & Family Movies', 'Independent Movies', 'Reality TV', 'TV Action & Adventure']\n",
            "Pakistan\n",
            "['Comedies', 'International Movies', 'Music & Musicals', 'Dramas', 'Romantic Movies', 'Independent Movies', 'International TV Shows', 'Romantic TV Shows', 'TV Dramas', 'Crime TV Shows', 'Horror Movies', 'Children & Family Movies', 'Action & Adventure']\n",
            "Australia\n",
            "['Docuseries', 'International TV Shows', 'Science & Nature TV', 'Children & Family Movies', 'Dramas', 'Sports Movies', 'Independent Movies', 'International Movies', 'Comedies', 'TV Comedies', 'Reality TV', 'Thrillers', 'Documentaries', \"Kids' TV\", 'Music & Musicals', 'British TV Shows', 'LGBTQ Movies', 'Romantic Movies', 'Action & Adventure', 'Sci-Fi & Fantasy', 'TV Dramas', 'TV Sci-Fi & Fantasy', 'TV Thrillers', 'Crime TV Shows', 'TV Action & Adventure', 'Movies', 'Romantic TV Shows', 'Horror Movies', 'TV Horror', 'Stand-Up Comedy', 'Teen TV Shows', 'Classic Movies', 'Cult Movies', 'TV Mysteries']\n",
            "Taiwan\n",
            "['International TV Shows', 'TV Comedies', 'TV Dramas', 'Action & Adventure', 'International Movies', 'Romantic Movies', 'Romantic TV Shows', 'TV Horror', 'Dramas', 'Independent Movies', 'Crime TV Shows', 'TV Action & Adventure', 'Teen TV Shows', 'Comedies', 'Reality TV', 'TV Sci-Fi & Fantasy', 'Documentaries', 'Sports Movies', 'Music & Musicals', 'TV Mysteries', 'Horror Movies', 'Thrillers', 'TV Thrillers', 'LGBTQ Movies']\n",
            "Netherlands\n",
            "['Documentaries', 'International Movies', 'Dramas', 'Independent Movies', 'International TV Shows', 'TV Dramas', 'TV Horror', 'Music & Musicals', 'Romantic Movies', 'Comedies', 'Sci-Fi & Fantasy', 'Thrillers', 'LGBTQ Movies', 'Stand-Up Comedy', 'Action & Adventure', \"Kids' TV\", 'Children & Family Movies', 'British TV Shows', 'TV Comedies', 'Crime TV Shows', 'TV Action & Adventure', 'Sports Movies']\n",
            "Philippines\n",
            "['Dramas', 'International Movies', 'Romantic Movies', 'Comedies', 'International TV Shows', 'TV Dramas', 'Documentaries', 'Action & Adventure', 'Thrillers', 'LGBTQ Movies', 'Horror Movies', 'Independent Movies', 'Sports Movies', 'Children & Family Movies', 'Music & Musicals']\n",
            "United Arab Emirates\n",
            "['Dramas', 'Thrillers', 'International Movies', 'Sci-Fi & Fantasy', 'Romantic Movies', 'Children & Family Movies', 'Comedies', 'Documentaries', 'Sports Movies', 'Horror Movies', 'Action & Adventure', 'Independent Movies', 'International TV Shows', 'TV Dramas']\n",
            "Iran\n",
            "['Dramas', 'International Movies', 'Independent Movies', 'Classic Movies', 'Horror Movies', 'Thrillers']\n",
            "Belgium\n",
            "['Children & Family Movies', 'Comedies', 'Dramas', 'Independent Movies', 'International Movies', 'Horror Movies', 'Action & Adventure', 'Romantic Movies', 'Crime TV Shows', 'International TV Shows', 'TV Dramas', 'Thrillers', \"Kids' TV\", 'Documentaries', 'LGBTQ Movies', 'TV Mysteries', 'Music & Musicals', 'Classic Movies', 'Sci-Fi & Fantasy', 'TV Action & Adventure', 'TV Sci-Fi & Fantasy']\n",
            "Israel\n",
            "['Dramas', 'International Movies', 'Documentaries', 'Crime TV Shows', 'Docuseries', 'International TV Shows', 'TV Action & Adventure', 'Sports Movies', 'TV Comedies', 'Action & Adventure', 'Horror Movies', 'Thrillers', 'Comedies', 'TV Dramas', 'Independent Movies', 'Sci-Fi & Fantasy', 'Faith & Spirituality']\n",
            "Uruguay\n",
            "['Dramas', 'International Movies', 'Comedies', 'Documentaries', 'Sports Movies', 'Independent Movies', 'Docuseries', 'International TV Shows', 'Science & Nature TV', 'Music & Musicals']\n",
            "Bulgaria\n",
            "['Action & Adventure', 'International Movies', 'Children & Family Movies', 'Sci-Fi & Fantasy', 'Thrillers', 'Horror Movies', 'Independent Movies', 'Dramas']\n",
            "Chile\n",
            "['Action & Adventure', 'Horror Movies', 'Comedies', 'Independent Movies', 'International Movies', 'International TV Shows', 'Spanish-Language TV Shows', 'TV Dramas', 'Dramas', 'Crime TV Shows', 'Stand-Up Comedy', 'Thrillers', 'Sports Movies', 'Children & Family Movies', 'Romantic Movies']\n",
            "Russia\n",
            "['Docuseries', 'International TV Shows', 'Science & Nature TV', \"Kids' TV\", 'Crime TV Shows', 'TV Dramas', 'Action & Adventure', 'International Movies', 'Dramas', 'TV Comedies', 'Documentaries', 'Sports Movies', 'Sci-Fi & Fantasy', 'Korean TV Shows', 'Romantic TV Shows', 'TV Action & Adventure', 'TV Mysteries', 'Horror Movies', 'Thrillers', 'Children & Family Movies']\n",
            "Mauritius\n",
            "['International TV Shows', 'TV Dramas']\n",
            "Lebanon\n",
            "['Crime TV Shows', 'International TV Shows', 'TV Dramas', 'Classic Movies', 'Dramas', 'International Movies', 'Music & Musicals', 'TV Thrillers', 'Comedies', 'Documentaries', 'Children & Family Movies', 'Independent Movies', 'Romantic Movies', 'Romantic TV Shows']\n",
            "Colombia\n",
            "['Stand-Up Comedy', 'International TV Shows', 'Romantic TV Shows', 'Spanish-Language TV Shows', 'TV Comedies', 'Comedies', 'Dramas', 'International Movies', 'Independent Movies', 'Crime TV Shows', 'Documentaries', 'TV Dramas', 'Docuseries', 'Romantic Movies', 'Action & Adventure', 'TV Action & Adventure', 'Sci-Fi & Fantasy']\n",
            "Algeria\n",
            "['Classic Movies', 'Dramas', 'International Movies']\n",
            "Soviet Union\n",
            "['Action & Adventure', 'International Movies', 'Sci-Fi & Fantasy', 'Dramas', 'Music & Musicals', 'Romantic Movies']\n",
            "Sweden\n",
            "['Documentaries', 'Dramas', 'Independent Movies', 'International Movies', 'Music & Musicals', 'Romantic Movies', 'International TV Shows', 'TV Dramas', 'Crime TV Shows', 'Stand-Up Comedy', 'TV Comedies', 'Romantic TV Shows', 'Action & Adventure', 'Thrillers', 'Comedies', \"Kids' TV\", 'TV Thrillers', 'Cult Movies', 'Sports Movies']\n",
            "Malaysia\n",
            "['Action & Adventure', 'Comedies', 'International Movies', \"Kids' TV\", 'Dramas', 'International TV Shows', 'TV Dramas', 'Horror Movies', 'TV Comedies', 'Korean TV Shows', 'Romantic TV Shows', 'Romantic Movies', 'Children & Family Movies', 'Independent Movies', 'TV Mysteries']\n",
            "Ireland\n",
            "['Children & Family Movies', 'Dramas', 'Romantic Movies', 'Action & Adventure', 'Independent Movies', 'Documentaries', 'International Movies', 'TV Comedies', 'TV Dramas', 'Sports Movies', 'Comedies', 'Horror Movies', 'Crime TV Shows', 'International TV Shows', 'Faith & Spirituality', 'British TV Shows', \"Kids' TV\", 'TV Horror', 'TV Mysteries', 'Thrillers', 'TV Action & Adventure']\n",
            "Luxembourg\n",
            "['Action & Adventure', 'Dramas', 'Independent Movies', 'International Movies', \"Kids' TV\", 'Children & Family Movies', 'Thrillers', 'Sci-Fi & Fantasy']\n",
            "Finland\n",
            "[\"Kids' TV\", 'TV Comedies', 'Dramas', 'International Movies', 'Sports Movies', 'Crime TV Shows', 'International TV Shows', 'TV Dramas', 'Action & Adventure', 'Comedies', 'Documentaries', 'Music & Musicals', 'British TV Shows', 'Children & Family Movies']\n",
            "Austria\n",
            "['Dramas', 'Independent Movies', 'International Movies', 'Crime TV Shows', 'International TV Shows', 'TV Dramas', 'Sci-Fi & Fantasy', 'Thrillers', 'Documentaries', 'Sports Movies']\n",
            "Peru\n",
            "['Comedies', 'International Movies', 'Documentaries', 'Romantic Movies', 'Sports Movies', 'Dramas', 'Horror Movies']\n",
            "Senegal\n",
            "['Dramas', 'Independent Movies', 'International Movies', 'Documentaries', 'Crime TV Shows', 'International TV Shows', 'TV Dramas']\n",
            "Switzerland\n",
            "['Dramas', 'International Movies', 'Children & Family Movies', 'Comedies', 'Independent Movies', 'Documentaries', 'Faith & Spirituality', 'Thrillers', 'Action & Adventure', 'Sci-Fi & Fantasy', 'International TV Shows', 'TV Comedies', 'TV Dramas']\n",
            "Ghana\n",
            "['Dramas', 'International Movies', 'Comedies', 'Independent Movies']\n",
            "Saudi Arabia\n",
            "['Comedies', 'International Movies', 'Romantic Movies', 'International TV Shows', 'TV Dramas', 'TV Comedies', 'TV Shows', 'Independent Movies', 'Dramas', 'Sports Movies']\n",
            "Armenia\n",
            "['Documentaries', 'International Movies']\n",
            "Jordan\n",
            "['Documentaries', 'International Movies', 'Comedies', 'Dramas', 'International TV Shows', 'TV Dramas', 'TV Mysteries', 'Horror Movies', 'Thrillers', 'Sports Movies']\n",
            "Mongolia\n",
            "['Documentaries', 'International Movies']\n",
            "Namibia\n",
            "['Dramas', 'International Movies', 'Documentaries']\n",
            "Qatar\n",
            "['Dramas', 'International Movies', 'Thrillers', 'Independent Movies', 'Comedies', 'Children & Family Movies', 'Horror Movies']\n",
            "Vietnam\n",
            "['Action & Adventure', 'Comedies', 'International Movies', 'Horror Movies', 'Thrillers', 'Dramas', 'Documentaries', 'Music & Musicals']\n",
            "Syria\n",
            "['International TV Shows', 'TV Dramas']\n",
            "Kuwait\n",
            "['International TV Shows', 'TV Dramas', 'Comedies', 'Dramas', 'International Movies', 'Sci-Fi & Fantasy', 'Thrillers', 'Romantic TV Shows', 'Action & Adventure']\n",
            "Malta\n",
            "['Dramas', 'Romantic Movies', 'Crime TV Shows', 'TV Action & Adventure', 'TV Dramas', 'Thrillers']\n",
            "Czech Republic\n",
            "['Action & Adventure', 'Documentaries', 'International Movies', 'Sports Movies', 'Horror Movies', 'Sci-Fi & Fantasy', 'Docuseries', 'Reality TV', 'TV Horror', 'TV Thrillers', 'Comedies', 'Independent Movies', 'Crime TV Shows', 'International TV Shows', 'Dramas', 'TV Dramas', 'Thrillers', 'Cult Movies', 'Children & Family Movies', 'Romantic Movies', 'British TV Shows', 'Science & Nature TV']\n",
            "Bahamas\n",
            "['Action & Adventure']\n",
            "Sri Lanka\n",
            "['Documentaries', 'International Movies']\n",
            "Cayman Islands\n",
            "['Children & Family Movies', 'Comedies']\n",
            "Bangladesh\n",
            "['Dramas', 'Independent Movies', 'International Movies', 'Comedies']\n",
            "United States,\n",
            "['Action & Adventure', 'Comedies', 'Classic Movies', 'Dramas', 'Children & Family Movies', 'Documentaries', 'Sports Movies', 'Independent Movies', 'International Movies', 'Music & Musicals', 'Romantic Movies', \"Kids' TV\", 'Horror Movies', 'Thrillers', 'Cult Movies', 'Sci-Fi & Fantasy', 'TV Comedies', 'Stand-Up Comedy', 'British TV Shows', 'Crime TV Shows', 'Docuseries', 'Anime Series', 'International TV Shows', 'LGBTQ Movies', 'TV Dramas', 'TV Mysteries', 'Romantic TV Shows', 'Spanish-Language TV Shows', 'Movies', 'TV Sci-Fi & Fantasy', 'Anime Features', 'Reality TV', 'TV Horror', 'TV Thrillers', 'Faith & Spirituality', 'TV Action & Adventure', 'Science & Nature TV', 'Classic & Cult TV', 'Korean TV Shows']\n",
            "Zimbabwe\n",
            "['Comedies', 'International Movies', 'Romantic Movies', 'Documentaries']\n",
            "Hungary\n",
            "['Dramas', 'International Movies', 'Action & Adventure', 'Romantic Movies', 'Sci-Fi & Fantasy', 'TV Dramas', 'Thrillers', 'Children & Family Movies']\n",
            "Latvia\n",
            "['Dramas', 'International Movies']\n",
            "Liechtenstein\n",
            "['Classic Movies', 'Dramas', 'Romantic Movies']\n",
            "Venezuela\n",
            "['Documentaries', 'International Movies']\n",
            "Morocco\n",
            "['Documentaries', 'International Movies', 'Dramas', 'Independent Movies', 'Action & Adventure', 'Faith & Spirituality']\n",
            "Cambodia\n",
            "['Action & Adventure', 'International Movies', 'Sci-Fi & Fantasy', 'Dramas', 'Children & Family Movies', 'Comedies']\n",
            "Albania\n",
            "['Dramas', 'International Movies']\n",
            "Cuba\n",
            "['Crime TV Shows', 'International TV Shows', 'Spanish-Language TV Shows']\n",
            "Nicaragua\n",
            "['Documentaries']\n",
            "Greece\n",
            "['British TV Shows', 'Docuseries', 'International TV Shows', 'Movies', 'Dramas', 'Independent Movies', 'Action & Adventure', 'Sci-Fi & Fantasy', 'Documentaries', 'LGBTQ Movies', 'Comedies', 'International Movies', 'Romantic Movies', 'Science & Nature TV']\n",
            "Cambodia,\n",
            "['Dramas', 'International Movies']\n",
            "Croatia\n",
            "['Dramas', 'Independent Movies', 'Comedies', 'International Movies', 'International TV Shows', 'TV Dramas']\n",
            "Guatemala\n",
            "['Documentaries', 'International Movies', 'Dramas', 'Independent Movies']\n",
            "West Germany\n",
            "['Documentaries', 'International Movies', 'Horror Movies', 'Thrillers', 'International TV Shows', 'TV Comedies', 'TV Dramas', 'Children & Family Movies', 'Classic Movies', 'Comedies']\n",
            "Poland,\n",
            "['Crime TV Shows', 'International TV Shows', 'TV Dramas', 'Dramas', 'International Movies', 'Thrillers', 'Classic Movies', 'Horror Movies', 'Independent Movies', 'Romantic Movies', 'Documentaries', 'Sci-Fi & Fantasy']\n",
            "Slovenia\n",
            "['Comedies', 'Independent Movies', 'International Movies', 'Horror Movies', 'Sci-Fi & Fantasy', 'Dramas']\n",
            "Dominican Republic\n",
            "['Horror Movies', 'International Movies', 'Thrillers']\n",
            "Nepal\n",
            "['Action & Adventure', 'Comedies', 'International Movies', 'Dramas']\n",
            "Samoa\n",
            "['Documentaries', 'Sports Movies']\n",
            "Azerbaijan\n",
            "['International TV Shows', 'Romantic TV Shows', 'TV Dramas']\n",
            "Bermuda\n",
            "['Documentaries']\n",
            "Ecuador\n",
            "['Documentaries']\n",
            "Georgia\n",
            "['Dramas', 'Independent Movies', 'International Movies', 'Documentaries']\n",
            "Botswana\n",
            "['Documentaries']\n",
            "Puerto Rico\n",
            "['Crime TV Shows', 'International TV Shows', 'Spanish-Language TV Shows']\n",
            "Iraq\n",
            "['Documentaries', 'International Movies']\n",
            "Vatican City\n",
            "['Documentaries', 'Faith & Spirituality', 'International Movies']\n",
            "Angola\n",
            "['Action & Adventure', 'International Movies']\n",
            "Ukraine\n",
            "['International TV Shows', 'TV Comedies', 'Crime TV Shows', 'TV Dramas', 'Documentaries', 'International Movies']\n",
            "Jamaica\n",
            "['Dramas', 'International Movies', 'Sports Movies']\n",
            "Belarus\n",
            "['British TV Shows', \"Kids' TV\", 'TV Comedies']\n",
            "Cyprus\n",
            "[\"Kids' TV\", 'TV Comedies']\n",
            "Kazakhstan\n",
            "['Children & Family Movies']\n",
            "Malawi\n",
            "['Children & Family Movies', 'Dramas', 'Independent Movies']\n",
            "Slovakia\n",
            "['Dramas', 'International Movies']\n",
            "Lithuania\n",
            "['Dramas', 'International Movies']\n",
            "Afghanistan\n",
            "['Documentaries', 'International Movies']\n",
            "Paraguay\n",
            "['Action & Adventure', 'International Movies']\n",
            "Somalia\n",
            "['Dramas']\n",
            "Sudan\n",
            "['Dramas']\n",
            "Panama\n",
            "['Documentaries', 'Sports Movies']\n",
            "United Kingdom,\n",
            "['Classic Movies', 'Cult Movies', 'Dramas', 'Sci-Fi & Fantasy', 'Documentaries', 'Comedies', 'Independent Movies', 'Children & Family Movies', 'International Movies', 'Thrillers', 'Horror Movies', 'Romantic Movies', 'Action & Adventure', 'British TV Shows', \"Kids' TV\", 'LGBTQ Movies', 'Crime TV Shows', 'International TV Shows', 'TV Thrillers', 'TV Action & Adventure', 'TV Dramas', 'TV Sci-Fi & Fantasy', 'Music & Musicals', 'Sports Movies', 'Docuseries', 'Classic & Cult TV', 'TV Comedies', 'Movies', 'Science & Nature TV', 'TV Horror', 'TV Mysteries', 'Faith & Spirituality', 'Romantic TV Shows']\n",
            "Uganda\n",
            "['Documentaries']\n",
            "East Germany\n",
            "['Children & Family Movies', 'Classic Movies', 'Comedies']\n",
            "Montenegro\n",
            "['Dramas', 'International Movies']\n"
          ],
          "name": "stdout"
        }
      ]
    },
    {
      "cell_type": "markdown",
      "metadata": {
        "id": "MKBuEwSF8QTv"
      },
      "source": [
        "**Ερώτημα 6**"
      ]
    },
    {
      "cell_type": "code",
      "metadata": {
        "id": "vJCIFb4J8S28"
      },
      "source": [
        ""
      ],
      "execution_count": null,
      "outputs": []
    }
  ]
}