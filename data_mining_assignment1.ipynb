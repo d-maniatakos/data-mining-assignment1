{
  "nbformat": 4,
  "nbformat_minor": 0,
  "metadata": {
    "colab": {
      "name": "data_mining_assignment1.ipynb",
      "provenance": [],
      "collapsed_sections": [],
      "toc_visible": true
    },
    "kernelspec": {
      "name": "python3",
      "display_name": "Python 3"
    },
    "language_info": {
      "name": "python"
    }
  },
  "cells": [
    {
      "cell_type": "markdown",
      "metadata": {
        "id": "tH09ceeBjP5R"
      },
      "source": [
        "**Εισαγωγή Δεδομένων**\n"
      ]
    },
    {
      "cell_type": "code",
      "metadata": {
        "id": "61fLeKbtFeL0",
        "colab": {
          "base_uri": "https://localhost:8080/",
          "height": 248
        },
        "outputId": "3f45c4db-959a-4ad9-f09a-9ce36142a7c6"
      },
      "source": [
        "import pandas as pd\n",
        "\n",
        "raw_netflix_data = pd.read_csv(\"netflix_titles.csv\")\n",
        "#netflix_data = raw_netflix_data.dropna()\n",
        "netflix_data = raw_netflix_data\n",
        "netflix_data.tail(3)\n"
      ],
      "execution_count": 34,
      "outputs": [
        {
          "output_type": "execute_result",
          "data": {
            "text/html": [
              "<div>\n",
              "<style scoped>\n",
              "    .dataframe tbody tr th:only-of-type {\n",
              "        vertical-align: middle;\n",
              "    }\n",
              "\n",
              "    .dataframe tbody tr th {\n",
              "        vertical-align: top;\n",
              "    }\n",
              "\n",
              "    .dataframe thead th {\n",
              "        text-align: right;\n",
              "    }\n",
              "</style>\n",
              "<table border=\"1\" class=\"dataframe\">\n",
              "  <thead>\n",
              "    <tr style=\"text-align: right;\">\n",
              "      <th></th>\n",
              "      <th>show_id</th>\n",
              "      <th>type</th>\n",
              "      <th>title</th>\n",
              "      <th>director</th>\n",
              "      <th>cast</th>\n",
              "      <th>country</th>\n",
              "      <th>date_added</th>\n",
              "      <th>release_year</th>\n",
              "      <th>rating</th>\n",
              "      <th>duration</th>\n",
              "      <th>listed_in</th>\n",
              "      <th>description</th>\n",
              "    </tr>\n",
              "  </thead>\n",
              "  <tbody>\n",
              "    <tr>\n",
              "      <th>7784</th>\n",
              "      <td>s7785</td>\n",
              "      <td>Movie</td>\n",
              "      <td>Zulu Man in Japan</td>\n",
              "      <td>NaN</td>\n",
              "      <td>Nasty C</td>\n",
              "      <td>NaN</td>\n",
              "      <td>September 25, 2020</td>\n",
              "      <td>2019</td>\n",
              "      <td>TV-MA</td>\n",
              "      <td>44 min</td>\n",
              "      <td>Documentaries, International Movies, Music &amp; M...</td>\n",
              "      <td>In this documentary, South African rapper Nast...</td>\n",
              "    </tr>\n",
              "    <tr>\n",
              "      <th>7785</th>\n",
              "      <td>s7786</td>\n",
              "      <td>TV Show</td>\n",
              "      <td>Zumbo's Just Desserts</td>\n",
              "      <td>NaN</td>\n",
              "      <td>Adriano Zumbo, Rachel Khoo</td>\n",
              "      <td>Australia</td>\n",
              "      <td>October 31, 2020</td>\n",
              "      <td>2019</td>\n",
              "      <td>TV-PG</td>\n",
              "      <td>1 Season</td>\n",
              "      <td>International TV Shows, Reality TV</td>\n",
              "      <td>Dessert wizard Adriano Zumbo looks for the nex...</td>\n",
              "    </tr>\n",
              "    <tr>\n",
              "      <th>7786</th>\n",
              "      <td>s7787</td>\n",
              "      <td>Movie</td>\n",
              "      <td>ZZ TOP: THAT LITTLE OL' BAND FROM TEXAS</td>\n",
              "      <td>Sam Dunn</td>\n",
              "      <td>NaN</td>\n",
              "      <td>United Kingdom, Canada, United States</td>\n",
              "      <td>March 1, 2020</td>\n",
              "      <td>2019</td>\n",
              "      <td>TV-MA</td>\n",
              "      <td>90 min</td>\n",
              "      <td>Documentaries, Music &amp; Musicals</td>\n",
              "      <td>This documentary delves into the mystique behi...</td>\n",
              "    </tr>\n",
              "  </tbody>\n",
              "</table>\n",
              "</div>"
            ],
            "text/plain": [
              "     show_id  ...                                        description\n",
              "7784   s7785  ...  In this documentary, South African rapper Nast...\n",
              "7785   s7786  ...  Dessert wizard Adriano Zumbo looks for the nex...\n",
              "7786   s7787  ...  This documentary delves into the mystique behi...\n",
              "\n",
              "[3 rows x 12 columns]"
            ]
          },
          "metadata": {
            "tags": []
          },
          "execution_count": 34
        }
      ]
    },
    {
      "cell_type": "markdown",
      "metadata": {
        "id": "6zcmgdF1lZKc"
      },
      "source": [
        "**Ερώτημα 1**"
      ]
    },
    {
      "cell_type": "code",
      "metadata": {
        "id": "ILMLGfm2ldMC",
        "outputId": "678cff32-3ddd-48b1-bd9b-904e8480ff85",
        "colab": {
          "base_uri": "https://localhost:8080/"
        }
      },
      "source": [
        "def print_most_popular_type(df):\n",
        "  most_popular_type = df.type.value_counts()\n",
        "  movie_amount  = most_popular_type.get('Movie')\n",
        "  shows_amount = most_popular_type.get('TV Show')\n",
        "  if movie_amount > shows_amount:\n",
        "    print(\"There are more movies than TV shows (\" + str(movie_amount) + \" movies, \" + str(shows_amount) + \" TV Shows)\")\n",
        "  else:\n",
        "    print(\"There are more TV Shows than movies (\" + str(movie_amount) + \" movies, \" + str(shows_amount) + \" TV Shows)\")\n",
        "\n",
        "\n",
        "print_most_popular_type(netflix_data)"
      ],
      "execution_count": 52,
      "outputs": [
        {
          "output_type": "stream",
          "text": [
            "There are more movies than TV shows (5377 movies, 2410 TV Shows)\n"
          ],
          "name": "stdout"
        }
      ]
    },
    {
      "cell_type": "markdown",
      "metadata": {
        "id": "Yzb3yGZxpBu0"
      },
      "source": [
        "**Ερώτημα 2**"
      ]
    },
    {
      "cell_type": "code",
      "metadata": {
        "id": "EpJ1bYMHpEXB",
        "outputId": "0aa981d0-aaa9-4fc9-b3a3-e0356a4fc756",
        "colab": {
          "base_uri": "https://localhost:8080/"
        }
      },
      "source": [
        "def recentNetflixData(df, year):\n",
        "  return netflix_data[netflix_data['release_year'] > year].reset_index()\n",
        "\n",
        "print_most_popular_type(recentNetflixData(netflix_data, 2019))"
      ],
      "execution_count": 53,
      "outputs": [
        {
          "output_type": "stream",
          "text": [
            "There are more TV Shows than movies (423 movies, 476 TV Shows)\n"
          ],
          "name": "stdout"
        }
      ]
    },
    {
      "cell_type": "markdown",
      "metadata": {
        "id": "iGOO2CrfrqFm"
      },
      "source": [
        "**Ερώτημα 3**"
      ]
    },
    {
      "cell_type": "code",
      "metadata": {
        "id": "LrLpsO0IrsLm",
        "outputId": "3b03106c-7452-4c7d-80ee-afe682ba2351",
        "colab": {
          "base_uri": "https://localhost:8080/"
        }
      },
      "source": [
        "def print_most_popular_country(df):\n",
        "  titles_by_country = df.country.value_counts()\n",
        "  country_name = titles_by_country.index[0]\n",
        "  movie_amount  = titles_by_country[0]\n",
        "  print(\"Most popular country is \" + str(country_name) + \" with \" + str(movie_amount) + \" titles.\")\n",
        "\n",
        "\n",
        "print_most_popular_country(netflix_data)"
      ],
      "execution_count": 71,
      "outputs": [
        {
          "output_type": "stream",
          "text": [
            "Most popular country is United States with 2555 titles.\n"
          ],
          "name": "stdout"
        }
      ]
    }
  ]
}